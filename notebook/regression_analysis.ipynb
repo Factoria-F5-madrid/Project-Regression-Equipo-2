{
 "cells": [
  {
   "cell_type": "markdown",
   "id": "fc534fdd",
   "metadata": {},
   "source": [
    "# Análisis de Regresión para el Consumo de Energía\n",
    "\n",
    "Este notebook se centra en el desarrollo y evaluación de modelos de regresión para predecir el consumo de energía basado en las variables procesadas en nuestro análisis exploratorio de datos (EDA)."
   ]
  }
 ],
 "metadata": {
  "kernelspec": {
   "display_name": ".venv",
   "language": "python",
   "name": "python3"
  },
  "language_info": {
   "codemirror_mode": {
    "name": "ipython",
    "version": 3
   },
   "file_extension": ".py",
   "mimetype": "text/x-python",
   "name": "python",
   "nbconvert_exporter": "python",
   "pygments_lexer": "ipython3",
   "version": "3.12.9"
  }
 },
 "nbformat": 4,
 "nbformat_minor": 5
}
