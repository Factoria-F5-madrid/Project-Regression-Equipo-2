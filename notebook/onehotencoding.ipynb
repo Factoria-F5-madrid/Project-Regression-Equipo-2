{
  "nbformat": 4,
  "nbformat_minor": 0,
  "metadata": {
    "colab": {
      "provenance": []
    },
    "kernelspec": {
      "name": "python3",
      "display_name": "Python 3"
    },
    "language_info": {
      "name": "python"
    }
  },
  "cells": [
    {
      "cell_type": "code",
      "execution_count": 1,
      "metadata": {
        "colab": {
          "base_uri": "https://localhost:8080/"
        },
        "id": "cJEbcic4sAnV",
        "outputId": "90f481ba-1007-4763-96cd-3bc3768ce6c3"
      },
      "outputs": [
        {
          "output_type": "stream",
          "name": "stdout",
          "text": [
            "Downloading from https://www.kaggle.com/api/v1/datasets/download/govindaramsriram/energy-consumption-dataset-linear-regression?dataset_version_number=1...\n"
          ]
        },
        {
          "output_type": "stream",
          "name": "stderr",
          "text": [
            "100%|██████████| 16.3k/16.3k [00:00<00:00, 19.2MB/s]"
          ]
        },
        {
          "output_type": "stream",
          "name": "stdout",
          "text": [
            "Extracting files...\n",
            "Archivos encontrados:\n",
            "/content/data/raw/datasets/govindaramsriram/energy-consumption-dataset-linear-regression/versions/1/test_energy_data.csv\n",
            "/content/data/raw/datasets/govindaramsriram/energy-consumption-dataset-linear-regression/versions/1/train_energy_data.csv\n"
          ]
        },
        {
          "output_type": "stream",
          "name": "stderr",
          "text": [
            "\n"
          ]
        }
      ],
      "source": [
        "!pip install -q kagglehub\n",
        "\n",
        "import kagglehub\n",
        "import os\n",
        "import pandas as pd\n",
        "\n",
        "raw_data_path = \"/content/data/raw\"\n",
        "os.makedirs(raw_data_path, exist_ok=True)\n",
        "os.environ[\"KAGGLEHUB_CACHE\"] = raw_data_path\n",
        "\n",
        "\n",
        "dataset_path = kagglehub.dataset_download(\"govindaramsriram/energy-consumption-dataset-linear-regression\")\n",
        "\n",
        "import os\n",
        "csv_files = []\n",
        "for root, dirs, files in os.walk(dataset_path):\n",
        "    for file in files:\n",
        "        if file.endswith(\".csv\"):\n",
        "            csv_files.append(os.path.join(root, file))\n",
        "\n",
        "print(\"Archivos encontrados:\")\n",
        "for f in csv_files:\n",
        "    print(f)\n"
      ]
    },
    {
      "cell_type": "code",
      "source": [
        "df = pd.read_csv([f for f in csv_files if \"train_energy_data.csv\" in f][0])\n",
        "print(f\"Shape: {df.shape}\")\n",
        "df.head()\n"
      ],
      "metadata": {
        "id": "K2Zvw1vHsSkf"
      },
      "execution_count": null,
      "outputs": []
    },
    {
      "cell_type": "code",
      "source": [
        "cat_cols = df.select_dtypes(include=[\"object\", \"category\"]).columns.tolist()\n",
        "\n",
        "print(\"Columnas categóricas detectadas:\")\n",
        "print(cat_cols)\n"
      ],
      "metadata": {
        "id": "N-MhqcMBsWEf"
      },
      "execution_count": null,
      "outputs": []
    },
    {
      "cell_type": "code",
      "source": [
        "for c in ['Building Type', 'Day of Week']:\n",
        "    df[c] = df[c].astype(str).str.strip().str.title()\n",
        "\n",
        "print(\"Building Type:\", sorted(df['Building Type'].unique()))\n",
        "print(\"Day of Week:\", sorted(df['Day of Week'].unique()))\n"
      ],
      "metadata": {
        "id": "Z7QVRS3ssmjc"
      },
      "execution_count": null,
      "outputs": []
    },
    {
      "cell_type": "code",
      "source": [
        "cat_cols = ['Building Type', 'Day of Week']\n",
        "\n",
        "df_encoded = pd.get_dummies(\n",
        "    df,\n",
        "    columns=cat_cols,\n",
        "    drop_first=False,\n",
        "    dummy_na=False\n",
        ")\n",
        "\n",
        "print(\"Shape después de One-Hot:\", df_encoded.shape)\n",
        "[d for d in df_encoded.columns if d.startswith('Building Type_') or d.startswith('Day of Week_')]\n"
      ],
      "metadata": {
        "id": "CTDsmqWTvIAO"
      },
      "execution_count": null,
      "outputs": []
    },
    {
      "cell_type": "code",
      "source": [
        "print(\"Shape:\", df_encoded.shape)\n",
        "\n",
        "cols = df_encoded.columns.tolist()\n",
        "print(\"Total columnas:\", len(cols))\n",
        "cols\n",
        "df_encoded.head(10)\n"
      ],
      "metadata": {
        "id": "Fl75dhuUwJby"
      },
      "execution_count": null,
      "outputs": []
    },
    {
      "cell_type": "code",
      "source": [
        "output_path = \"/content/energy_data_onehot_full.csv\"\n",
        "df_encoded.to_csv(output_path, index=False)\n",
        "print(f\"CSV guardado en: {output_path}\")\n"
      ],
      "metadata": {
        "id": "LPxwDoufwNci"
      },
      "execution_count": null,
      "outputs": []
    }
  ]
}