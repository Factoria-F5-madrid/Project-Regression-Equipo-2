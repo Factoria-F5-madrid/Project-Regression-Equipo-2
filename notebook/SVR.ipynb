{
 "cells": [
  {
   "cell_type": "code",
   "execution_count": 46,
   "id": "79845c76",
   "metadata": {},
   "outputs": [],
   "source": [
    "import numpy as np\n",
    "import pandas as pd\n",
    "import matplotlib.pyplot as plt\n",
    "import seaborn as sns\n",
    "from sklearn.svm import SVR\n",
    "from sklearn.model_selection import train_test_split, GridSearchCV, cross_val_score\n",
    "from sklearn.preprocessing import StandardScaler\n",
    "from sklearn.metrics import mean_squared_error, r2_score, mean_absolute_error\n",
    "from sklearn.pipeline import Pipeline\n",
    "import joblib\n",
    "import warnings\n",
    "import os\n",
    "\n",
    "warnings.filterwarnings('ignore')\n",
    "\n",
    "\n",
    "# Configurar estilo de gráficos\n",
    "plt.style.use('seaborn-v0_8')\n",
    "sns.set_palette(\"husl\")"
   ]
  },
  {
   "cell_type": "code",
   "execution_count": 47,
   "id": "21f3dbf2",
   "metadata": {},
   "outputs": [],
   "source": [
    "# 1. CARGAR Y PREPARAR LOS DATOS\n",
    "\n",
    "train_df = pd.read_csv('../data/processed/energy_data_processed.csv')\n",
    "test_df = pd.read_csv('../data/processed/energy_data_processed_test.csv')"
   ]
  },
  {
   "cell_type": "code",
   "execution_count": 48,
   "id": "619a0678",
   "metadata": {},
   "outputs": [
    {
     "name": "stdout",
     "output_type": "stream",
     "text": [
      "Forma del dataset de entrenamiento: (1000, 9)\n",
      "Forma del dataset de prueba: (1000, 9)\n",
      "Variable objetivo: Energy Consumption\n"
     ]
    }
   ],
   "source": [
    "# 2. SEPARAR CARACTERÍSTICAS Y VARIABLE OBJETIVO\n",
    "# La variable objetivo es 'Energy Consumption'\n",
    "# Las características (X) son todas las demás columnas excepto 'Energy Consumption'\n",
    "\n",
    "# Para el dataset de entrenamiento\n",
    "y_train = train_df['Energy Consumption']\n",
    "X_train = train_df.drop('Energy Consumption', axis=1)\n",
    "\n",
    "# Para el dataset de prueba\n",
    "y_test = test_df['Energy Consumption']\n",
    "X_test = test_df.drop('Energy Consumption', axis=1)\n",
    "\n",
    "print(f\"Forma del dataset de entrenamiento: {X_train.shape}\")\n",
    "print(f\"Forma del dataset de prueba: {X_test.shape}\")\n",
    "print(f\"Variable objetivo: {y_train.name}\")\n"
   ]
  },
  {
   "cell_type": "code",
   "execution_count": 49,
   "id": "d3ac9a57",
   "metadata": {},
   "outputs": [],
   "source": [
    "# 4. ESCALADO DE CARACTERÍSTICAS\n",
    "scaler = StandardScaler()\n",
    "X_train_scaled = scaler.fit_transform(X_train)\n",
    "X_test_scaled = scaler.transform(X_test)"
   ]
  },
  {
   "cell_type": "code",
   "execution_count": 50,
   "id": "5cab26a6",
   "metadata": {},
   "outputs": [
    {
     "name": "stdout",
     "output_type": "stream",
     "text": [
      "\n",
      "=== SVR BÁSICO ===\n",
      "MSE: 803856.3422\n",
      "RMSE: 896.5804\n",
      "R²: 0.0762\n",
      "MAE: 736.4387\n"
     ]
    }
   ],
   "source": [
    "# 5. MODELO SVR BÁSICO\n",
    "print(\"\\n=== SVR BÁSICO ===\")\n",
    "svr_basic = SVR(kernel='rbf', C=1.0, gamma='scale')\n",
    "svr_basic.fit(X_train_scaled, y_train)\n",
    "\n",
    "# Predicciones básicas\n",
    "y_pred_basic = svr_basic.predict(X_test_scaled)\n",
    "\n",
    "# Métricas básicas\n",
    "mse_basic = mean_squared_error(y_test, y_pred_basic)\n",
    "rmse_basic = np.sqrt(mse_basic)\n",
    "r2_basic = r2_score(y_test, y_pred_basic)\n",
    "mae_basic = mean_absolute_error(y_test, y_pred_basic)\n",
    "\n",
    "print(f\"MSE: {mse_basic:.4f}\")\n",
    "print(f\"RMSE: {rmse_basic:.4f}\")\n",
    "print(f\"R²: {r2_basic:.4f}\")\n",
    "print(f\"MAE: {mae_basic:.4f}\")"
   ]
  },
  {
   "cell_type": "code",
   "execution_count": 51,
   "id": "81e9d4b7",
   "metadata": {},
   "outputs": [
    {
     "name": "stdout",
     "output_type": "stream",
     "text": [
      "Fitting 3 folds for each of 1 candidates, totalling 3 fits\n",
      "Fitting 3 folds for each of 1 candidates, totalling 3 fits\n",
      "Fitting 3 folds for each of 1 candidates, totalling 3 fits\n",
      "Fitting 3 folds for each of 1 candidates, totalling 3 fits\n",
      "Fitting 3 folds for each of 1 candidates, totalling 3 fits\n",
      "Fitting 3 folds for each of 1 candidates, totalling 3 fits\n",
      "Fitting 3 folds for each of 1 candidates, totalling 3 fits\n",
      "Fitting 3 folds for each of 1 candidates, totalling 3 fits\n",
      "Fitting 3 folds for each of 1 candidates, totalling 3 fits\n",
      "Fitting 3 folds for each of 1 candidates, totalling 3 fits\n",
      "Fitting 3 folds for each of 1 candidates, totalling 3 fits\n",
      "Fitting 3 folds for each of 1 candidates, totalling 3 fits\n",
      "Fitting 3 folds for each of 1 candidates, totalling 3 fits\n",
      "Fitting 3 folds for each of 1 candidates, totalling 3 fits\n",
      "Fitting 3 folds for each of 1 candidates, totalling 3 fits\n",
      "Fitting 3 folds for each of 1 candidates, totalling 3 fits\n",
      "Fitting 3 folds for each of 1 candidates, totalling 3 fits\n",
      "Fitting 3 folds for each of 1 candidates, totalling 3 fits\n",
      "Fitting 3 folds for each of 1 candidates, totalling 3 fits\n",
      "Fitting 3 folds for each of 1 candidates, totalling 3 fits\n",
      "Fitting 3 folds for each of 1 candidates, totalling 3 fits\n",
      "Fitting 3 folds for each of 1 candidates, totalling 3 fits\n",
      "Fitting 3 folds for each of 1 candidates, totalling 3 fits\n",
      "Fitting 3 folds for each of 1 candidates, totalling 3 fits\n",
      "Fitting 3 folds for each of 1 candidates, totalling 3 fits\n",
      "Fitting 3 folds for each of 1 candidates, totalling 3 fits\n",
      "Fitting 3 folds for each of 1 candidates, totalling 3 fits\n",
      "Fitting 3 folds for each of 1 candidates, totalling 3 fits\n",
      "Fitting 3 folds for each of 1 candidates, totalling 3 fits\n",
      "Fitting 3 folds for each of 1 candidates, totalling 3 fits\n",
      "Mejores parámetros: OrderedDict({'C': 100.0, 'epsilon': 0.01, 'gamma': 'scale', 'kernel': 'poly'})\n",
      "Mejor score CV: 2422.8110\n"
     ]
    }
   ],
   "source": [
    "# pip install scikit-optimize\n",
    "from skopt import BayesSearchCV\n",
    "from skopt.space import Real, Categorical\n",
    "\n",
    "bayes_search = BayesSearchCV(\n",
    "    SVR(),\n",
    "    {\n",
    "        'C': Real(0.1, 100, prior='log-uniform'),\n",
    "        'gamma': Categorical(['scale', 'auto', 0.001, 0.01, 0.1]),\n",
    "        'kernel': Categorical(['rbf', 'poly']),\n",
    "        'epsilon': Real(0.01, 0.2)\n",
    "    },\n",
    "    n_iter=30,  # Solo 30 iteraciones inteligentes\n",
    "    cv=3,\n",
    "    scoring='neg_mean_squared_error',\n",
    "    n_jobs=-1,\n",
    "    verbose=1,\n",
    "    random_state=42\n",
    ")\n",
    "\n",
    "bayes_search.fit(X_train_scaled, y_train)\n",
    "print(f\"Mejores parámetros: {bayes_search.best_params_}\")\n",
    "print(f\"Mejor score CV: {-bayes_search.best_score_:.4f}\")"
   ]
  },
  {
   "cell_type": "code",
   "execution_count": 52,
   "id": "cbebbb23",
   "metadata": {},
   "outputs": [
    {
     "name": "stdout",
     "output_type": "stream",
     "text": [
      "\n",
      "=== MODELO OPTIMIZADO (ENTRENAMIENTO) ===\n",
      "MSE: 475.5602\n",
      "RMSE: 21.8073\n",
      "R²: 0.9995\n",
      "MAE: 15.3973\n",
      "\n",
      "=== MODELO OPTIMIZADO (PRUEBA) ===\n",
      "MSE: 475.5602\n",
      "RMSE: 21.8073\n",
      "R²: 0.9995\n",
      "MAE: 15.3973\n"
     ]
    }
   ],
   "source": [
    "# 7. MODELO OPTIMIZADO\n",
    "svr_optimized = bayes_search.best_estimator_\n",
    "\n",
    "# Predicciones para entrenamiento y prueba\n",
    "y_pred_train_optimized = svr_optimized.predict(X_train_scaled)\n",
    "y_pred_test_optimized = svr_optimized.predict(X_test_scaled)\n",
    "\n",
    "# Métricas del modelo optimizado\n",
    "mse_train_opt = mean_squared_error(y_train, y_pred_train_optimized)\n",
    "rmse_train_opt = np.sqrt(mse_train_opt)\n",
    "r2_train_opt = r2_score(y_train, y_pred_train_optimized)\n",
    "mae_train_opt = mean_absolute_error(y_train, y_pred_train_optimized)\n",
    "\n",
    "# Métricas para prueba\n",
    "mse_test_opt = mean_squared_error(y_test, y_pred_test_optimized)\n",
    "rmse_test_opt = np.sqrt(mse_test_opt)\n",
    "r2_test_opt = r2_score(y_test, y_pred_test_optimized)\n",
    "mae_test_opt = mean_absolute_error(y_test, y_pred_test_optimized)\n",
    "\n",
    "print(f\"\\n=== MODELO OPTIMIZADO (ENTRENAMIENTO) ===\")\n",
    "print(f\"MSE: {mse_train_opt:.4f}\")\n",
    "print(f\"RMSE: {rmse_train_opt:.4f}\")\n",
    "print(f\"R²: {r2_train_opt:.4f}\")\n",
    "print(f\"MAE: {mae_train_opt:.4f}\")\n",
    "\n",
    "print(f\"\\n=== MODELO OPTIMIZADO (PRUEBA) ===\")\n",
    "print(f\"MSE: {mse_test_opt:.4f}\")\n",
    "print(f\"RMSE: {rmse_test_opt:.4f}\")\n",
    "print(f\"R²: {r2_test_opt:.4f}\")\n",
    "print(f\"MAE: {mae_test_opt:.4f}\")"
   ]
  },
  {
   "cell_type": "code",
   "execution_count": 53,
   "id": "826eb713",
   "metadata": {},
   "outputs": [
    {
     "name": "stdout",
     "output_type": "stream",
     "text": [
      "\n",
      "CV RMSE: 35.8807 (+/- 17.4165)\n"
     ]
    }
   ],
   "source": [
    "# Validación cruzada\n",
    "cv_scores = cross_val_score(svr_optimized, X_train_scaled, y_train, cv=5, scoring='neg_mean_squared_error')\n",
    "print(f\"\\nCV RMSE: {np.sqrt(-cv_scores.mean()):.4f} (+/- {np.sqrt(cv_scores.std() * 2):.4f})\")"
   ]
  },
  {
   "cell_type": "code",
   "execution_count": 54,
   "id": "4e07e37a",
   "metadata": {},
   "outputs": [
    {
     "name": "stdout",
     "output_type": "stream",
     "text": [
      "\n",
      "Predicciones de entrenamiento guardadas en '../data/results/svr_predictions_train.csv'\n",
      "Predicciones de prueba guardadas en '../data/results/svr_predictions_test.csv'\n"
     ]
    }
   ],
   "source": [
    "# 7. GUARDAR RESULTADOS EN CSV\n",
    "# Resultados de entrenamiento\n",
    "train_results = pd.DataFrame({\n",
    "    'Valores Reales': y_train,\n",
    "    'Predicciones': y_pred_train_optimized,\n",
    "    'Diferencia': y_train - y_pred_train_optimized\n",
    "})\n",
    "train_results.to_csv('../data/results/svr_predictions_train.csv', index=False)\n",
    "print(\"\\nPredicciones de entrenamiento guardadas en '../data/results/svr_predictions_train.csv'\")\n",
    "\n",
    "# Resultados de prueba\n",
    "test_results = pd.DataFrame({\n",
    "    'Valores Reales': y_test,\n",
    "    'Predicciones': y_pred_test_optimized,\n",
    "    'Diferencia': y_test - y_pred_test_optimized\n",
    "})\n",
    "test_results.to_csv('../data/results/svr_predictions_test.csv', index=False)\n",
    "print(\"Predicciones de prueba guardadas en '../data/results/svr_predictions_test.csv'\")"
   ]
  },
  {
   "cell_type": "code",
   "execution_count": 55,
   "id": "5bf20173",
   "metadata": {},
   "outputs": [
    {
     "name": "stdout",
     "output_type": "stream",
     "text": [
      "\n",
      "=== COMPARACIÓN DE KERNELS ===\n",
      "LINEAR - MSE: 927.4379, R²: 0.9989\n",
      "RBF - MSE: 803856.3422, R²: 0.0762\n",
      "POLY - MSE: 787666.7367, R²: 0.0948\n",
      "SIGMOID - MSE: 709897.8898, R²: 0.1842\n"
     ]
    }
   ],
   "source": [
    "# 8. COMPARACIÓN DE MODELOS CON DIFERENTES KERNELS\n",
    "print(\"\\n=== COMPARACIÓN DE KERNELS ===\")\n",
    "kernels = ['linear', 'rbf', 'poly', 'sigmoid']\n",
    "kernel_results = {}\n",
    "\n",
    "for kernel in kernels:\n",
    "    svr_kernel = SVR(kernel=kernel, C=1.0, gamma='scale')\n",
    "    svr_kernel.fit(X_train_scaled, y_train)\n",
    "    y_pred_kernel = svr_kernel.predict(X_test_scaled)\n",
    "    \n",
    "    mse_kernel = mean_squared_error(y_test, y_pred_kernel)\n",
    "    r2_kernel = r2_score(y_test, y_pred_kernel)\n",
    "    \n",
    "    kernel_results[kernel] = {'MSE': mse_kernel, 'R²': r2_kernel}\n",
    "    print(f\"{kernel.upper()} - MSE: {mse_kernel:.4f}, R²: {r2_kernel:.4f}\")"
   ]
  },
  {
   "cell_type": "code",
   "execution_count": 56,
   "id": "472fe344",
   "metadata": {},
   "outputs": [
    {
     "name": "stdout",
     "output_type": "stream",
     "text": [
      "📊 Gráfico de prueba guardado en: ../data/figures/svr_comparative_analysis_test.png\n",
      "📊 Gráfico de entrenamiento guardado en: ../data/figures/svr_comparative_analysis_train.png\n"
     ]
    }
   ],
   "source": [
    "# 9. VISUALIZACIONES\n",
    "output_dir = \"../data/figures/\"\n",
    "\n",
    "# Visualizaciones para el conjunto de prueba\n",
    "fig_test, axes_test = plt.subplots(2, 2, figsize=(15, 12))\n",
    "\n",
    "# Gráfico 1: Valores reales vs predicciones (modelo optimizado - prueba)\n",
    "axes_test[0,0].scatter(y_test, y_pred_test_optimized, alpha=0.6)\n",
    "axes_test[0,0].plot([y_test.min(), y_test.max()], [y_test.min(), y_test.max()], 'r--', lw=2)\n",
    "axes_test[0,0].set_xlabel('Valores Reales')\n",
    "axes_test[0,0].set_ylabel('Predicciones')\n",
    "axes_test[0,0].set_title(f'SVR Optimizado (Prueba) - R² = {r2_test_opt:.4f}')\n",
    "axes_test[0,0].grid(True, alpha=0.3)\n",
    "\n",
    "# Gráfico 2: Residuos (prueba)\n",
    "residuos_test = y_test - y_pred_test_optimized\n",
    "axes_test[0,1].scatter(y_pred_test_optimized, residuos_test, alpha=0.6)\n",
    "axes_test[0,1].axhline(y=0, color='r', linestyle='--')\n",
    "axes_test[0,1].set_xlabel('Predicciones')\n",
    "axes_test[0,1].set_ylabel('Residuos')\n",
    "axes_test[0,1].set_title('Gráfico de Residuos (Prueba)')\n",
    "axes_test[0,1].grid(True, alpha=0.3)\n",
    "\n",
    "# Gráfico 3: Comparación de kernels (MSE)\n",
    "kernel_names = list(kernel_results.keys())\n",
    "mse_values = [kernel_results[k]['MSE'] for k in kernel_names]\n",
    "axes_test[1,0].bar(np.arange(len(kernel_names)), mse_values, alpha=0.7)\n",
    "axes_test[1,0].set_xlabel('Kernel')\n",
    "axes_test[1,0].set_ylabel('MSE')\n",
    "axes_test[1,0].set_title('Comparación MSE por Kernel')\n",
    "axes_test[1,0].set_xticks(np.arange(len(kernel_names)))\n",
    "axes_test[1,0].set_xticklabels(kernel_names)\n",
    "\n",
    "# Gráfico 4: Comparación de kernels (R²)\n",
    "r2_values = [kernel_results[k]['R²'] for k in kernel_names]\n",
    "axes_test[1,1].bar(np.arange(len(kernel_names)), r2_values, alpha=0.7, color='green')\n",
    "axes_test[1,1].set_xlabel('Kernel')\n",
    "axes_test[1,1].set_ylabel('R²')\n",
    "axes_test[1,1].set_title('Comparación R² por Kernel')\n",
    "axes_test[1,1].set_xticks(np.arange(len(kernel_names)))\n",
    "axes_test[1,1].set_xticklabels(kernel_names)\n",
    "\n",
    "plt.tight_layout()\n",
    "fig_test.savefig(f\"{output_dir}svr_comparative_analysis_test.png\", dpi=300, bbox_inches='tight')\n",
    "plt.close(fig_test)\n",
    "print(f\"📊 Gráfico de prueba guardado en: {output_dir}svr_comparative_analysis_test.png\")\n",
    "\n",
    "# Visualizaciones para el conjunto de entrenamiento\n",
    "fig_train, axes_train = plt.subplots(1, 2, figsize=(15, 6))\n",
    "\n",
    "# Gráfico 1: Valores reales vs predicciones (modelo optimizado - entrenamiento)\n",
    "axes_train[0].scatter(y_train, y_pred_train_optimized, alpha=0.6)\n",
    "axes_train[0].plot([y_train.min(), y_train.max()], [y_train.min(), y_train.max()], 'r--', lw=2)\n",
    "axes_train[0].set_xlabel('Valores Reales')\n",
    "axes_train[0].set_ylabel('Predicciones')\n",
    "axes_train[0].set_title(f'SVR Optimizado (Entrenamiento) - R² = {r2_train_opt:.4f}')\n",
    "axes_train[0].grid(True, alpha=0.3)\n",
    "\n",
    "# Gráfico 2: Residuos (entrenamiento)\n",
    "residuos_train = y_train - y_pred_train_optimized\n",
    "axes_train[1].scatter(y_pred_train_optimized, residuos_train, alpha=0.6)\n",
    "axes_train[1].axhline(y=0, color='r', linestyle='--')\n",
    "axes_train[1].set_xlabel('Predicciones')\n",
    "axes_train[1].set_ylabel('Residuos')\n",
    "axes_train[1].set_title('Gráfico de Residuos (Entrenamiento)')\n",
    "axes_train[1].grid(True, alpha=0.3)\n",
    "\n",
    "plt.tight_layout()\n",
    "fig_train.savefig(f\"{output_dir}svr_comparative_analysis_train.png\", dpi=300, bbox_inches='tight')\n",
    "plt.close(fig_train)\n",
    "print(f\"📊 Gráfico de entrenamiento guardado en: {output_dir}svr_comparative_analysis_train.png\")"
   ]
  },
  {
   "cell_type": "code",
   "execution_count": 57,
   "id": "28e115a7",
   "metadata": {},
   "outputs": [
    {
     "name": "stdout",
     "output_type": "stream",
     "text": [
      "\n",
      "=== RESUMEN DE RESULTADOS ===\n",
      "                           Modelo          MSE      RMSE      R²       MAE\n",
      "0             SVR Básico (Prueba)  803856.3422  896.5804  0.0762  736.4387\n",
      "1  SVR Optimizado (Entrenamiento)     475.5602   21.8073  0.9995   15.3973\n",
      "2         SVR Optimizado (Prueba)     475.5602   21.8073  0.9995   15.3973\n"
     ]
    }
   ],
   "source": [
    "# 10. TABLA RESUMEN DE RESULTADOS\n",
    "print(\"\\n=== RESUMEN DE RESULTADOS ===\")\n",
    "resumen = pd.DataFrame({\n",
    "    'Modelo': ['SVR Básico (Prueba)', 'SVR Optimizado (Entrenamiento)', 'SVR Optimizado (Prueba)'],\n",
    "    'MSE': [mse_basic, mse_train_opt, mse_test_opt],\n",
    "    'RMSE': [rmse_basic, rmse_train_opt, rmse_test_opt],\n",
    "    'R²': [r2_basic, r2_train_opt, r2_test_opt],\n",
    "    'MAE': [mae_basic, mae_train_opt, mae_test_opt]\n",
    "})\n",
    "print(resumen.round(4))"
   ]
  },
  {
   "cell_type": "code",
   "execution_count": 58,
   "id": "9a932a6b",
   "metadata": {},
   "outputs": [
    {
     "name": "stdout",
     "output_type": "stream",
     "text": [
      "\n",
      "Modelo y scaler guardados como 'svr_model.pkl' y 'svr_scaler.pkl'\n"
     ]
    }
   ],
   "source": [
    "# 11. GUARDAR EL MODELO \n",
    "joblib.dump(svr_optimized, '../data/results/svr_model.pkl')\n",
    "joblib.dump(scaler, '../data/results/svr_scaler.pkl')\n",
    "print(\"\\nModelo y scaler guardados como 'svr_model.pkl' y 'svr_scaler.pkl'\")\n"
   ]
  },
  {
   "cell_type": "code",
   "execution_count": 59,
   "id": "ed078d8e",
   "metadata": {},
   "outputs": [],
   "source": [
    "# # Guardar en CSV\n",
    "# df_test_results.to_csv('../data/results/svr_model.csv', index=False)\n",
    "\n",
    "# print(\"✅ Archivo guardado como 'knn_predictions_test.csv' en la carpeta /data/results/\")"
   ]
  },
  {
   "cell_type": "code",
   "execution_count": 60,
   "id": "81b822ec",
   "metadata": {},
   "outputs": [
    {
     "name": "stdout",
     "output_type": "stream",
     "text": [
      "\n",
      "¡SVR implementado exitosamente!\n"
     ]
    }
   ],
   "source": [
    "# 12. FUNCIÓN PARA NUEVAS PREDICCIONES\n",
    "def predecir_nuevos_datos(nuevos_datos, modelo=svr_optimized, escalador=scaler):\n",
    "    \"\"\"\n",
    "    Función para hacer predicciones en nuevos datos\n",
    "\n",
    "    Parameters:\n",
    "    nuevos_datos: array-like o DataFrame, datos a predecir\n",
    "    modelo: modelo SVR entrenado\n",
    "    escalador: StandardScaler ajustado\n",
    "\n",
    "    Returns:\n",
    "    predicciones: array con las predicciones\n",
    "    \"\"\"\n",
    "    # Convertir a NumPy si es un DataFrame para evitar advertencias\n",
    "    if isinstance(nuevos_datos, pd.DataFrame):\n",
    "        nuevos_datos = nuevos_datos.values\n",
    "    datos_escalados = escalador.transform(nuevos_datos)\n",
    "    predicciones = modelo.predict(datos_escalados)\n",
    "    return predicciones\n",
    "\n",
    "# Ejemplo de uso de la función\n",
    "# nuevos_X = np.array([[1, 2, 3, 4]])  # Ejemplo\n",
    "# prediccion = predecir_nuevos_datos(nuevos_X)\n",
    "# print(f\"Predicción para nuevos datos: {prediccion}\")\n",
    "\n",
    "print(\"\\n¡SVR implementado exitosamente!\")\n"
   ]
  }
 ],
 "metadata": {
  "kernelspec": {
   "display_name": ".venv",
   "language": "python",
   "name": "python3"
  },
  "language_info": {
   "codemirror_mode": {
    "name": "ipython",
    "version": 3
   },
   "file_extension": ".py",
   "mimetype": "text/x-python",
   "name": "python",
   "nbconvert_exporter": "python",
   "pygments_lexer": "ipython3",
   "version": "3.13.7"
  }
 },
 "nbformat": 4,
 "nbformat_minor": 5
}
