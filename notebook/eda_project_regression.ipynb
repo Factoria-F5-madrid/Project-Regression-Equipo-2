{
 "cells": [
  {
   "cell_type": "code",
   "execution_count": 52,
   "id": "b5caf4f0",
   "metadata": {},
   "outputs": [],
   "source": [
    "import pandas as pd\n",
    "import numpy as np\n",
    "import seaborn as sns\n",
    "import matplotlib.pyplot as plt\n",
    "import missingno as msno\n",
    "\n"
   ]
  },
  {
   "cell_type": "code",
   "execution_count": 53,
   "id": "fa1700f3",
   "metadata": {},
   "outputs": [],
   "source": [
    "import os\n",
    "import kagglehub\n",
    "import shutil\n",
    "\n",
    "# Ruta correcta hacia la carpeta data/raw en la raíz del proyecto\n",
    "raw_data_path = os.path.join(\"..\", \"data\", \"raw\")\n",
    "\n",
    "# Asegura que la carpeta exista\n",
    "os.makedirs(raw_data_path, exist_ok=True)\n",
    "\n",
    "# Establece la carpeta de descarga para kagglehub\n",
    "os.environ[\"KAGGLEHUB_CACHE\"] = raw_data_path\n",
    "\n",
    "# Descarga el dataset\n",
    "path = kagglehub.dataset_download(\"govindaramsriram/energy-consumption-dataset-linear-regression\")\n",
    "\n",
    "# Mueve los archivos .csv directamente a data/raw\n",
    "for root, dirs, files in os.walk(path):\n",
    "    for file in files:\n",
    "        if file.endswith(\".csv\"):\n",
    "            source = os.path.join(root, file)\n",
    "            destination = os.path.join(raw_data_path, file)\n",
    "            shutil.move(source, destination)\n",
    "            print(f\"Archivo movido a: {destination}\")"
   ]
  },
  {
   "cell_type": "code",
   "execution_count": 54,
   "id": "cd7f2ba9",
   "metadata": {},
   "outputs": [
    {
     "name": "stdout",
     "output_type": "stream",
     "text": [
      "['.gitkeep', 'datasets', 'test_energy_data.csv', 'train_energy_data.csv']\n"
     ]
    }
   ],
   "source": [
    "print(os.listdir(raw_data_path))"
   ]
  },
  {
   "cell_type": "code",
   "execution_count": 55,
   "id": "38cb1112",
   "metadata": {},
   "outputs": [
    {
     "data": {
      "text/html": [
       "<div>\n",
       "<style scoped>\n",
       "    .dataframe tbody tr th:only-of-type {\n",
       "        vertical-align: middle;\n",
       "    }\n",
       "\n",
       "    .dataframe tbody tr th {\n",
       "        vertical-align: top;\n",
       "    }\n",
       "\n",
       "    .dataframe thead th {\n",
       "        text-align: right;\n",
       "    }\n",
       "</style>\n",
       "<table border=\"1\" class=\"dataframe\">\n",
       "  <thead>\n",
       "    <tr style=\"text-align: right;\">\n",
       "      <th></th>\n",
       "      <th>Building Type</th>\n",
       "      <th>Square Footage</th>\n",
       "      <th>Number of Occupants</th>\n",
       "      <th>Appliances Used</th>\n",
       "      <th>Average Temperature</th>\n",
       "      <th>Day of Week</th>\n",
       "      <th>Energy Consumption</th>\n",
       "    </tr>\n",
       "  </thead>\n",
       "  <tbody>\n",
       "    <tr>\n",
       "      <th>0</th>\n",
       "      <td>Residential</td>\n",
       "      <td>7063</td>\n",
       "      <td>76</td>\n",
       "      <td>10</td>\n",
       "      <td>29.84</td>\n",
       "      <td>Weekday</td>\n",
       "      <td>2713.95</td>\n",
       "    </tr>\n",
       "    <tr>\n",
       "      <th>1</th>\n",
       "      <td>Commercial</td>\n",
       "      <td>44372</td>\n",
       "      <td>66</td>\n",
       "      <td>45</td>\n",
       "      <td>16.72</td>\n",
       "      <td>Weekday</td>\n",
       "      <td>5744.99</td>\n",
       "    </tr>\n",
       "    <tr>\n",
       "      <th>2</th>\n",
       "      <td>Industrial</td>\n",
       "      <td>19255</td>\n",
       "      <td>37</td>\n",
       "      <td>17</td>\n",
       "      <td>14.30</td>\n",
       "      <td>Weekend</td>\n",
       "      <td>4101.24</td>\n",
       "    </tr>\n",
       "    <tr>\n",
       "      <th>3</th>\n",
       "      <td>Residential</td>\n",
       "      <td>13265</td>\n",
       "      <td>14</td>\n",
       "      <td>41</td>\n",
       "      <td>32.82</td>\n",
       "      <td>Weekday</td>\n",
       "      <td>3009.14</td>\n",
       "    </tr>\n",
       "    <tr>\n",
       "      <th>4</th>\n",
       "      <td>Commercial</td>\n",
       "      <td>13375</td>\n",
       "      <td>26</td>\n",
       "      <td>18</td>\n",
       "      <td>11.92</td>\n",
       "      <td>Weekday</td>\n",
       "      <td>3279.17</td>\n",
       "    </tr>\n",
       "    <tr>\n",
       "      <th>5</th>\n",
       "      <td>Commercial</td>\n",
       "      <td>37377</td>\n",
       "      <td>26</td>\n",
       "      <td>32</td>\n",
       "      <td>16.24</td>\n",
       "      <td>Weekend</td>\n",
       "      <td>4687.67</td>\n",
       "    </tr>\n",
       "    <tr>\n",
       "      <th>6</th>\n",
       "      <td>Industrial</td>\n",
       "      <td>38638</td>\n",
       "      <td>92</td>\n",
       "      <td>14</td>\n",
       "      <td>21.01</td>\n",
       "      <td>Weekend</td>\n",
       "      <td>5526.83</td>\n",
       "    </tr>\n",
       "    <tr>\n",
       "      <th>7</th>\n",
       "      <td>Residential</td>\n",
       "      <td>34950</td>\n",
       "      <td>60</td>\n",
       "      <td>18</td>\n",
       "      <td>28.24</td>\n",
       "      <td>Weekday</td>\n",
       "      <td>4116.32</td>\n",
       "    </tr>\n",
       "    <tr>\n",
       "      <th>8</th>\n",
       "      <td>Industrial</td>\n",
       "      <td>29741</td>\n",
       "      <td>99</td>\n",
       "      <td>44</td>\n",
       "      <td>13.08</td>\n",
       "      <td>Weekday</td>\n",
       "      <td>5841.65</td>\n",
       "    </tr>\n",
       "    <tr>\n",
       "      <th>9</th>\n",
       "      <td>Residential</td>\n",
       "      <td>17467</td>\n",
       "      <td>42</td>\n",
       "      <td>36</td>\n",
       "      <td>28.84</td>\n",
       "      <td>Weekday</td>\n",
       "      <td>3419.13</td>\n",
       "    </tr>\n",
       "  </tbody>\n",
       "</table>\n",
       "</div>"
      ],
      "text/plain": [
       "  Building Type  Square Footage  Number of Occupants  Appliances Used  \\\n",
       "0   Residential            7063                   76               10   \n",
       "1    Commercial           44372                   66               45   \n",
       "2    Industrial           19255                   37               17   \n",
       "3   Residential           13265                   14               41   \n",
       "4    Commercial           13375                   26               18   \n",
       "5    Commercial           37377                   26               32   \n",
       "6    Industrial           38638                   92               14   \n",
       "7   Residential           34950                   60               18   \n",
       "8    Industrial           29741                   99               44   \n",
       "9   Residential           17467                   42               36   \n",
       "\n",
       "   Average Temperature Day of Week  Energy Consumption  \n",
       "0                29.84     Weekday             2713.95  \n",
       "1                16.72     Weekday             5744.99  \n",
       "2                14.30     Weekend             4101.24  \n",
       "3                32.82     Weekday             3009.14  \n",
       "4                11.92     Weekday             3279.17  \n",
       "5                16.24     Weekend             4687.67  \n",
       "6                21.01     Weekend             5526.83  \n",
       "7                28.24     Weekday             4116.32  \n",
       "8                13.08     Weekday             5841.65  \n",
       "9                28.84     Weekday             3419.13  "
      ]
     },
     "execution_count": 55,
     "metadata": {},
     "output_type": "execute_result"
    }
   ],
   "source": [
    "df = pd.read_csv(\"../data/raw/train_energy_data.csv\")\n",
    "\n",
    "# Verificamos que se cargó correctamente\n",
    "df.head(10)\n"
   ]
  },
  {
   "cell_type": "code",
   "execution_count": 56,
   "id": "3ca6a7c9",
   "metadata": {},
   "outputs": [
    {
     "data": {
      "text/plain": [
       "(1000, 7)"
      ]
     },
     "execution_count": 56,
     "metadata": {},
     "output_type": "execute_result"
    }
   ],
   "source": [
    "df.shape"
   ]
  },
  {
   "cell_type": "code",
   "execution_count": 57,
   "id": "cecea397",
   "metadata": {},
   "outputs": [
    {
     "data": {
      "text/plain": [
       "Building Type           object\n",
       "Square Footage           int64\n",
       "Number of Occupants      int64\n",
       "Appliances Used          int64\n",
       "Average Temperature    float64\n",
       "Day of Week             object\n",
       "Energy Consumption     float64\n",
       "dtype: object"
      ]
     },
     "execution_count": 57,
     "metadata": {},
     "output_type": "execute_result"
    }
   ],
   "source": [
    "df.dtypes"
   ]
  }
 ],
 "metadata": {
  "kernelspec": {
   "display_name": ".venv",
   "language": "python",
   "name": "python3"
  },
  "language_info": {
   "codemirror_mode": {
    "name": "ipython",
    "version": 3
   },
   "file_extension": ".py",
   "mimetype": "text/x-python",
   "name": "python",
   "nbconvert_exporter": "python",
   "pygments_lexer": "ipython3",
   "version": "3.12.9"
  }
 },
 "nbformat": 4,
 "nbformat_minor": 5
}
