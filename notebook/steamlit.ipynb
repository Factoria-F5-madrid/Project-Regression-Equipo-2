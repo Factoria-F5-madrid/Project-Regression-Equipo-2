{
 "cells": [
  {
   "cell_type": "code",
   "execution_count": null,
   "id": "3ebe9b0b",
   "metadata": {},
   "outputs": [],
   "source": [
    "import streamlit as st\n",
    "import pandas as pd\n",
    "import matplotlib.pyplot as plt\n",
    "import numpy as np"
   ]
  },
  {
   "cell_type": "code",
   "execution_count": null,
   "id": "05d55527",
   "metadata": {},
   "outputs": [],
   "source": [
    "# Título de la aplicación\n",
    "st.title(\"Precios de la luz\")\n",
    "\n",
    "# Para ejecutar: streamlit run mi_app.py\n",
    "\n",
    "st.header(\"Encabezado\")\n",
    "st.subheader(\"Subencabezado\")\n",
    "st.text(\"Texto plano\")\n",
    "st.markdown(\"**Texto en markdown**\")\n",
    "st.write(\"Función universal para mostrar cualquier cosa\")"
   ]
  },
  {
   "cell_type": "code",
   "execution_count": null,
   "id": "03d2648e",
   "metadata": {},
   "outputs": [],
   "source": [
    "# Mostrar dataframes\n",
    "\n",
    "df = pd.DataFrame({'columna1': [1, 2, 3], 'columna2': [4, 5, 6]})\n",
    "st.dataframe(df)"
   ]
  },
  {
   "cell_type": "code",
   "execution_count": null,
   "id": "2578f429",
   "metadata": {},
   "outputs": [],
   "source": [
    "#widgets\n",
    "# Botón\n",
    "if st.button(\"Presiona aquí\"):\n",
    "    st.write(\"¡Botón presionado!\")\n",
    "\n",
    "# Slider\n",
    "valor = st.slider(\"Selecciona un valor\", 0, 100, 50)\n",
    "\n",
    "# Input de texto\n",
    "nombre = st.text_input(\"Ingresa tu nombre\")\n",
    "\n",
    "# Selectbox\n",
    "opcion = st.selectbox(\"Elige una opción\", [\"A\", \"B\", \"C\"])\n",
    "\n",
    "# Checkbox\n",
    "if st.checkbox(\"Mostrar datos\"):\n",
    "    st.write(\"Datos mostrados\")"
   ]
  },
  {
   "cell_type": "code",
   "execution_count": null,
   "id": "025adcac",
   "metadata": {},
   "outputs": [],
   "source": [
    "#Gráficos\n",
    "# Gráfico con matplotlib\n",
    "fig, ax = plt.subplots()\n",
    "x = np.linspace(0, 10, 100)\n",
    "ax.plot(x, np.sin(x))\n",
    "st.pyplot(fig)\n",
    "\n",
    "# Gráfico nativo de Streamlit\n",
    "chart_data = pd.DataFrame(\n",
    "    np.random.randn(20, 3),\n",
    "    columns=['a', 'b', 'c']\n",
    ")\n",
    "st.line_chart(chart_data)"
   ]
  },
  {
   "cell_type": "code",
   "execution_count": null,
   "id": "5503db61",
   "metadata": {},
   "outputs": [],
   "source": [
    "# Mostrar métricas\n",
    "col1, col2, col3 = st.columns(3)\n",
    "with col1:\n",
    "    st.metric(\"Ventas Totales\", \"1,234\", \"12%\")\n",
    "with col2:\n",
    "    st.metric(\"Ganancias\", \"5,678\", \"-2%\")\n",
    "with col3:\n",
    "    st.metric(\"Clientes\", \"890\", \"5%\")\n",
    "\n",
    "# Tabla\n",
    "st.subheader(\"Datos Detallados\")\n",
    "st.dataframe(df)"
   ]
  }
 ],
 "metadata": {
  "language_info": {
   "name": "python"
  }
 },
 "nbformat": 4,
 "nbformat_minor": 5
}
