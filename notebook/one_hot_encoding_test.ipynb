{
 "cells": [
  {
   "cell_type": "code",
   "execution_count": 157,
   "id": "6e0f0c39",
   "metadata": {},
   "outputs": [
    {
     "name": "stderr",
     "output_type": "stream",
     "text": [
      "\n",
      "[notice] A new release of pip is available: 24.3.1 -> 25.2\n",
      "[notice] To update, run: python.exe -m pip install --upgrade pip\n"
     ]
    },
    {
     "name": "stdout",
     "output_type": "stream",
     "text": [
      "Archivos encontrados:\n",
      "/content/data/raw\\datasets\\govindaramsriram\\energy-consumption-dataset-linear-regression\\versions\\1\\test_energy_data.csv\n",
      "/content/data/raw\\datasets\\govindaramsriram\\energy-consumption-dataset-linear-regression\\versions\\1\\train_energy_data.csv\n"
     ]
    }
   ],
   "source": [
    "!pip install -q kagglehub\n",
    "\n",
    "import kagglehub\n",
    "import os\n",
    "import pandas as pd\n",
    "\n",
    "raw_data_path = \"/content/data/raw\"\n",
    "os.makedirs(raw_data_path, exist_ok=True)\n",
    "os.environ[\"KAGGLEHUB_CACHE\"] = raw_data_path\n",
    "\n",
    "\n",
    "dataset_path = kagglehub.dataset_download(\"govindaramsriram/energy-consumption-dataset-linear-regression\")\n",
    "\n",
    "import os\n",
    "csv_files = []\n",
    "for root, dirs, files in os.walk(dataset_path):\n",
    "    for file in files:\n",
    "        if file.endswith(\".csv\"):\n",
    "            csv_files.append(os.path.join(root, file))\n",
    "\n",
    "print(\"Archivos encontrados:\")\n",
    "for f in csv_files:\n",
    "    print(f)\n"
   ]
  },
  {
   "cell_type": "code",
   "execution_count": 158,
   "id": "5d58d358",
   "metadata": {},
   "outputs": [
    {
     "name": "stdout",
     "output_type": "stream",
     "text": [
      "Shape: (100, 7)\n"
     ]
    },
    {
     "data": {
      "text/html": [
       "<div>\n",
       "<style scoped>\n",
       "    .dataframe tbody tr th:only-of-type {\n",
       "        vertical-align: middle;\n",
       "    }\n",
       "\n",
       "    .dataframe tbody tr th {\n",
       "        vertical-align: top;\n",
       "    }\n",
       "\n",
       "    .dataframe thead th {\n",
       "        text-align: right;\n",
       "    }\n",
       "</style>\n",
       "<table border=\"1\" class=\"dataframe\">\n",
       "  <thead>\n",
       "    <tr style=\"text-align: right;\">\n",
       "      <th></th>\n",
       "      <th>Building Type</th>\n",
       "      <th>Square Footage</th>\n",
       "      <th>Number of Occupants</th>\n",
       "      <th>Appliances Used</th>\n",
       "      <th>Average Temperature</th>\n",
       "      <th>Day of Week</th>\n",
       "      <th>Energy Consumption</th>\n",
       "    </tr>\n",
       "  </thead>\n",
       "  <tbody>\n",
       "    <tr>\n",
       "      <th>0</th>\n",
       "      <td>Residential</td>\n",
       "      <td>24563</td>\n",
       "      <td>15</td>\n",
       "      <td>4</td>\n",
       "      <td>28.52</td>\n",
       "      <td>Weekday</td>\n",
       "      <td>2865.57</td>\n",
       "    </tr>\n",
       "    <tr>\n",
       "      <th>1</th>\n",
       "      <td>Commercial</td>\n",
       "      <td>27583</td>\n",
       "      <td>56</td>\n",
       "      <td>23</td>\n",
       "      <td>23.07</td>\n",
       "      <td>Weekend</td>\n",
       "      <td>4283.80</td>\n",
       "    </tr>\n",
       "    <tr>\n",
       "      <th>2</th>\n",
       "      <td>Commercial</td>\n",
       "      <td>45313</td>\n",
       "      <td>4</td>\n",
       "      <td>44</td>\n",
       "      <td>33.56</td>\n",
       "      <td>Weekday</td>\n",
       "      <td>5067.83</td>\n",
       "    </tr>\n",
       "    <tr>\n",
       "      <th>3</th>\n",
       "      <td>Residential</td>\n",
       "      <td>41625</td>\n",
       "      <td>84</td>\n",
       "      <td>17</td>\n",
       "      <td>27.39</td>\n",
       "      <td>Weekend</td>\n",
       "      <td>4624.30</td>\n",
       "    </tr>\n",
       "    <tr>\n",
       "      <th>4</th>\n",
       "      <td>Residential</td>\n",
       "      <td>36720</td>\n",
       "      <td>58</td>\n",
       "      <td>47</td>\n",
       "      <td>17.08</td>\n",
       "      <td>Weekday</td>\n",
       "      <td>4820.59</td>\n",
       "    </tr>\n",
       "  </tbody>\n",
       "</table>\n",
       "</div>"
      ],
      "text/plain": [
       "  Building Type  Square Footage  Number of Occupants  Appliances Used  \\\n",
       "0   Residential           24563                   15                4   \n",
       "1    Commercial           27583                   56               23   \n",
       "2    Commercial           45313                    4               44   \n",
       "3   Residential           41625                   84               17   \n",
       "4   Residential           36720                   58               47   \n",
       "\n",
       "   Average Temperature Day of Week  Energy Consumption  \n",
       "0                28.52     Weekday             2865.57  \n",
       "1                23.07     Weekend             4283.80  \n",
       "2                33.56     Weekday             5067.83  \n",
       "3                27.39     Weekend             4624.30  \n",
       "4                17.08     Weekday             4820.59  "
      ]
     },
     "execution_count": 158,
     "metadata": {},
     "output_type": "execute_result"
    }
   ],
   "source": [
    "df = pd.read_csv([f for f in csv_files if \"test_energy_data.csv\" in f][0])\n",
    "print(f\"Shape: {df.shape}\")\n",
    "df.head()"
   ]
  },
  {
   "cell_type": "code",
   "execution_count": 159,
   "id": "ca43595d",
   "metadata": {},
   "outputs": [
    {
     "name": "stdout",
     "output_type": "stream",
     "text": [
      "Columnas categóricas detectadas:\n",
      "['Building Type', 'Day of Week']\n"
     ]
    }
   ],
   "source": [
    "cat_cols = df.select_dtypes(include=[\"object\", \"category\"]).columns.tolist()\n",
    "\n",
    "print(\"Columnas categóricas detectadas:\")\n",
    "print(cat_cols)\n"
   ]
  },
  {
   "cell_type": "code",
   "execution_count": 160,
   "id": "dd336109",
   "metadata": {},
   "outputs": [
    {
     "name": "stdout",
     "output_type": "stream",
     "text": [
      "Building Type: ['Commercial', 'Industrial', 'Residential']\n",
      "Day of Week: ['Weekday', 'Weekend']\n"
     ]
    }
   ],
   "source": [
    "for c in ['Building Type', 'Day of Week']:\n",
    "    df[c] = df[c].astype(str).str.strip().str.title()\n",
    "\n",
    "print(\"Building Type:\", sorted(df['Building Type'].unique()))\n",
    "print(\"Day of Week:\", sorted(df['Day of Week'].unique()))"
   ]
  },
  {
   "cell_type": "code",
   "execution_count": 161,
   "id": "f4156708",
   "metadata": {},
   "outputs": [
    {
     "name": "stdout",
     "output_type": "stream",
     "text": [
      "Shape después de One-Hot: (100, 10)\n"
     ]
    },
    {
     "data": {
      "text/plain": [
       "['Building Type_Commercial',\n",
       " 'Building Type_Industrial',\n",
       " 'Building Type_Residential',\n",
       " 'Day of Week_Weekday',\n",
       " 'Day of Week_Weekend']"
      ]
     },
     "execution_count": 161,
     "metadata": {},
     "output_type": "execute_result"
    }
   ],
   "source": [
    "cat_cols = ['Building Type', 'Day of Week']\n",
    "\n",
    "df_encoded = pd.get_dummies(\n",
    "    df,\n",
    "    columns=cat_cols,\n",
    "    drop_first=False,\n",
    "    dummy_na=False,\n",
    "    dtype=int\n",
    ")\n",
    "\n",
    "print(\"Shape después de One-Hot:\", df_encoded.shape)\n",
    "[d for d in df_encoded.columns if d.startswith('Building Type_') or d.startswith('Day of Week_')]"
   ]
  },
  {
   "cell_type": "code",
   "execution_count": 162,
   "id": "3fe7ebd6",
   "metadata": {},
   "outputs": [
    {
     "name": "stdout",
     "output_type": "stream",
     "text": [
      "Shape: (100, 10)\n",
      "Total columnas: 10\n"
     ]
    },
    {
     "data": {
      "text/html": [
       "<div>\n",
       "<style scoped>\n",
       "    .dataframe tbody tr th:only-of-type {\n",
       "        vertical-align: middle;\n",
       "    }\n",
       "\n",
       "    .dataframe tbody tr th {\n",
       "        vertical-align: top;\n",
       "    }\n",
       "\n",
       "    .dataframe thead th {\n",
       "        text-align: right;\n",
       "    }\n",
       "</style>\n",
       "<table border=\"1\" class=\"dataframe\">\n",
       "  <thead>\n",
       "    <tr style=\"text-align: right;\">\n",
       "      <th></th>\n",
       "      <th>Square Footage</th>\n",
       "      <th>Number of Occupants</th>\n",
       "      <th>Appliances Used</th>\n",
       "      <th>Average Temperature</th>\n",
       "      <th>Energy Consumption</th>\n",
       "      <th>Building Type_Commercial</th>\n",
       "      <th>Building Type_Industrial</th>\n",
       "      <th>Building Type_Residential</th>\n",
       "      <th>Day of Week_Weekday</th>\n",
       "      <th>Day of Week_Weekend</th>\n",
       "    </tr>\n",
       "  </thead>\n",
       "  <tbody>\n",
       "    <tr>\n",
       "      <th>0</th>\n",
       "      <td>24563</td>\n",
       "      <td>15</td>\n",
       "      <td>4</td>\n",
       "      <td>28.52</td>\n",
       "      <td>2865.57</td>\n",
       "      <td>0</td>\n",
       "      <td>0</td>\n",
       "      <td>1</td>\n",
       "      <td>1</td>\n",
       "      <td>0</td>\n",
       "    </tr>\n",
       "    <tr>\n",
       "      <th>1</th>\n",
       "      <td>27583</td>\n",
       "      <td>56</td>\n",
       "      <td>23</td>\n",
       "      <td>23.07</td>\n",
       "      <td>4283.80</td>\n",
       "      <td>1</td>\n",
       "      <td>0</td>\n",
       "      <td>0</td>\n",
       "      <td>0</td>\n",
       "      <td>1</td>\n",
       "    </tr>\n",
       "    <tr>\n",
       "      <th>2</th>\n",
       "      <td>45313</td>\n",
       "      <td>4</td>\n",
       "      <td>44</td>\n",
       "      <td>33.56</td>\n",
       "      <td>5067.83</td>\n",
       "      <td>1</td>\n",
       "      <td>0</td>\n",
       "      <td>0</td>\n",
       "      <td>1</td>\n",
       "      <td>0</td>\n",
       "    </tr>\n",
       "    <tr>\n",
       "      <th>3</th>\n",
       "      <td>41625</td>\n",
       "      <td>84</td>\n",
       "      <td>17</td>\n",
       "      <td>27.39</td>\n",
       "      <td>4624.30</td>\n",
       "      <td>0</td>\n",
       "      <td>0</td>\n",
       "      <td>1</td>\n",
       "      <td>0</td>\n",
       "      <td>1</td>\n",
       "    </tr>\n",
       "    <tr>\n",
       "      <th>4</th>\n",
       "      <td>36720</td>\n",
       "      <td>58</td>\n",
       "      <td>47</td>\n",
       "      <td>17.08</td>\n",
       "      <td>4820.59</td>\n",
       "      <td>0</td>\n",
       "      <td>0</td>\n",
       "      <td>1</td>\n",
       "      <td>1</td>\n",
       "      <td>0</td>\n",
       "    </tr>\n",
       "    <tr>\n",
       "      <th>5</th>\n",
       "      <td>31207</td>\n",
       "      <td>47</td>\n",
       "      <td>28</td>\n",
       "      <td>22.82</td>\n",
       "      <td>5026.23</td>\n",
       "      <td>0</td>\n",
       "      <td>1</td>\n",
       "      <td>0</td>\n",
       "      <td>1</td>\n",
       "      <td>0</td>\n",
       "    </tr>\n",
       "    <tr>\n",
       "      <th>6</th>\n",
       "      <td>39227</td>\n",
       "      <td>18</td>\n",
       "      <td>44</td>\n",
       "      <td>23.36</td>\n",
       "      <td>4404.56</td>\n",
       "      <td>0</td>\n",
       "      <td>0</td>\n",
       "      <td>1</td>\n",
       "      <td>0</td>\n",
       "      <td>1</td>\n",
       "    </tr>\n",
       "    <tr>\n",
       "      <th>7</th>\n",
       "      <td>7814</td>\n",
       "      <td>21</td>\n",
       "      <td>19</td>\n",
       "      <td>27.27</td>\n",
       "      <td>2394.37</td>\n",
       "      <td>0</td>\n",
       "      <td>0</td>\n",
       "      <td>1</td>\n",
       "      <td>1</td>\n",
       "      <td>0</td>\n",
       "    </tr>\n",
       "    <tr>\n",
       "      <th>8</th>\n",
       "      <td>20482</td>\n",
       "      <td>24</td>\n",
       "      <td>16</td>\n",
       "      <td>23.00</td>\n",
       "      <td>3969.09</td>\n",
       "      <td>0</td>\n",
       "      <td>1</td>\n",
       "      <td>0</td>\n",
       "      <td>0</td>\n",
       "      <td>1</td>\n",
       "    </tr>\n",
       "    <tr>\n",
       "      <th>9</th>\n",
       "      <td>21030</td>\n",
       "      <td>90</td>\n",
       "      <td>35</td>\n",
       "      <td>12.96</td>\n",
       "      <td>5136.69</td>\n",
       "      <td>0</td>\n",
       "      <td>1</td>\n",
       "      <td>0</td>\n",
       "      <td>1</td>\n",
       "      <td>0</td>\n",
       "    </tr>\n",
       "  </tbody>\n",
       "</table>\n",
       "</div>"
      ],
      "text/plain": [
       "   Square Footage  Number of Occupants  Appliances Used  Average Temperature  \\\n",
       "0           24563                   15                4                28.52   \n",
       "1           27583                   56               23                23.07   \n",
       "2           45313                    4               44                33.56   \n",
       "3           41625                   84               17                27.39   \n",
       "4           36720                   58               47                17.08   \n",
       "5           31207                   47               28                22.82   \n",
       "6           39227                   18               44                23.36   \n",
       "7            7814                   21               19                27.27   \n",
       "8           20482                   24               16                23.00   \n",
       "9           21030                   90               35                12.96   \n",
       "\n",
       "   Energy Consumption  Building Type_Commercial  Building Type_Industrial  \\\n",
       "0             2865.57                         0                         0   \n",
       "1             4283.80                         1                         0   \n",
       "2             5067.83                         1                         0   \n",
       "3             4624.30                         0                         0   \n",
       "4             4820.59                         0                         0   \n",
       "5             5026.23                         0                         1   \n",
       "6             4404.56                         0                         0   \n",
       "7             2394.37                         0                         0   \n",
       "8             3969.09                         0                         1   \n",
       "9             5136.69                         0                         1   \n",
       "\n",
       "   Building Type_Residential  Day of Week_Weekday  Day of Week_Weekend  \n",
       "0                          1                    1                    0  \n",
       "1                          0                    0                    1  \n",
       "2                          0                    1                    0  \n",
       "3                          1                    0                    1  \n",
       "4                          1                    1                    0  \n",
       "5                          0                    1                    0  \n",
       "6                          1                    0                    1  \n",
       "7                          1                    1                    0  \n",
       "8                          0                    0                    1  \n",
       "9                          0                    1                    0  "
      ]
     },
     "execution_count": 162,
     "metadata": {},
     "output_type": "execute_result"
    }
   ],
   "source": [
    "print(\"Shape:\", df_encoded.shape)\n",
    "\n",
    "cols = df_encoded.columns.tolist()\n",
    "print(\"Total columnas:\", len(cols))\n",
    "cols\n",
    "df_encoded.head(10)\n"
   ]
  },
  {
   "cell_type": "code",
   "execution_count": 163,
   "id": "d0103d8b",
   "metadata": {},
   "outputs": [
    {
     "name": "stdout",
     "output_type": "stream",
     "text": [
      "CSV guardado en: ../data/processed/energy_data_processed_test.csv\n"
     ]
    }
   ],
   "source": [
    "output_path = \"../data/processed/energy_data_processed_test.csv\"\n",
    "df_encoded.to_csv(output_path, index=False)\n",
    "print(f\"CSV guardado en: {output_path}\")"
   ]
  }
 ],
 "metadata": {
  "kernelspec": {
   "display_name": ".venv",
   "language": "python",
   "name": "python3"
  },
  "language_info": {
   "codemirror_mode": {
    "name": "ipython",
    "version": 3
   },
   "file_extension": ".py",
   "mimetype": "text/x-python",
   "name": "python",
   "nbconvert_exporter": "python",
   "pygments_lexer": "ipython3",
   "version": "3.13.7"
  }
 },
 "nbformat": 4,
 "nbformat_minor": 5
}
