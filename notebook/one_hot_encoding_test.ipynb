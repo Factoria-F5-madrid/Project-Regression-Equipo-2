{
 "cells": [
  {
   "cell_type": "code",
   "execution_count": null,
   "id": "6e0f0c39",
   "metadata": {},
   "outputs": [],
   "source": [
    "!pip install -q kagglehub\n",
    "\n",
    "import kagglehub\n",
    "import os\n",
    "import pandas as pd\n",
    "\n",
    "raw_data_path = \"/content/data/raw\"\n",
    "os.makedirs(raw_data_path, exist_ok=True)\n",
    "os.environ[\"KAGGLEHUB_CACHE\"] = raw_data_path\n",
    "\n",
    "\n",
    "dataset_path = kagglehub.dataset_download(\"govindaramsriram/energy-consumption-dataset-linear-regression\")\n",
    "\n",
    "import os\n",
    "csv_files = []\n",
    "for root, dirs, files in os.walk(dataset_path):\n",
    "    for file in files:\n",
    "        if file.endswith(\".csv\"):\n",
    "            csv_files.append(os.path.join(root, file))\n",
    "\n",
    "print(\"Archivos encontrados:\")\n",
    "for f in csv_files:\n",
    "    print(f)\n"
   ]
  },
  {
   "cell_type": "code",
   "execution_count": null,
   "id": "5d58d358",
   "metadata": {},
   "outputs": [],
   "source": [
    "df = pd.read_csv([f for f in csv_files if \"train_energy_data.csv\" in f][0])\n",
    "print(f\"Shape: {df.shape}\")\n",
    "df.head()"
   ]
  },
  {
   "cell_type": "code",
   "execution_count": null,
   "id": "ca43595d",
   "metadata": {},
   "outputs": [],
   "source": [
    "cat_cols = df.select_dtypes(include=[\"object\", \"category\"]).columns.tolist()\n",
    "\n",
    "print(\"Columnas categóricas detectadas:\")\n",
    "print(cat_cols)\n"
   ]
  },
  {
   "cell_type": "code",
   "execution_count": null,
   "id": "dd336109",
   "metadata": {},
   "outputs": [],
   "source": [
    "for c in ['Building Type', 'Day of Week']:\n",
    "    df[c] = df[c].astype(str).str.strip().str.title()\n",
    "\n",
    "print(\"Building Type:\", sorted(df['Building Type'].unique()))\n",
    "print(\"Day of Week:\", sorted(df['Day of Week'].unique()))"
   ]
  },
  {
   "cell_type": "code",
   "execution_count": null,
   "id": "f4156708",
   "metadata": {},
   "outputs": [],
   "source": [
    "cat_cols = ['Building Type', 'Day of Week']\n",
    "\n",
    "df_encoded = pd.get_dummies(\n",
    "    df,\n",
    "    columns=cat_cols,\n",
    "    drop_first=False,\n",
    "    dummy_na=False\n",
    ")\n",
    "\n",
    "print(\"Shape después de One-Hot:\", df_encoded.shape)\n",
    "[d for d in df_encoded.columns if d.startswith('Building Type_') or d.startswith('Day of Week_')]"
   ]
  },
  {
   "cell_type": "code",
   "execution_count": null,
   "id": "3fe7ebd6",
   "metadata": {},
   "outputs": [],
   "source": [
    "print(\"Shape:\", df_encoded.shape)\n",
    "\n",
    "cols = df_encoded.columns.tolist()\n",
    "print(\"Total columnas:\", len(cols))\n",
    "cols\n",
    "df_encoded.head(10)\n"
   ]
  },
  {
   "cell_type": "code",
   "execution_count": null,
   "id": "d0103d8b",
   "metadata": {},
   "outputs": [],
   "source": [
    "output_path = \"../data/processed/energy_data_processed_test.csv\"\n",
    "df_encoded.to_csv(output_path, index=False)\n",
    "print(f\"CSV guardado en: {output_path}\")"
   ]
  }
 ],
 "metadata": {
  "language_info": {
   "name": "python"
  }
 },
 "nbformat": 4,
 "nbformat_minor": 5
}
