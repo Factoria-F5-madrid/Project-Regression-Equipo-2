{
 "cells": [
  {
   "cell_type": "markdown",
   "id": "7c6d69a5",
   "metadata": {},
   "source": [
    "# Proyecto de Regresión Lineal - Equipo 2\n",
    "\n",
    "Este notebook está preparado para el desarrollo grupal del modelo de regresión lineal. Aquí se documentarán los pasos, análisis y resultados del equipo.\n",
    "\n",
    "---\n",
    "\n",
    "*Sección inicial vacía, lista para agregar código y análisis.*"
   ]
  }
 ],
 "metadata": {
  "language_info": {
   "name": "python"
  }
 },
 "nbformat": 4,
 "nbformat_minor": 5
}
